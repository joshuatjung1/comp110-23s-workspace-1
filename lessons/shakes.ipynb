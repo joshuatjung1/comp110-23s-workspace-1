{
 "cells": [
  {
   "attachments": {},
   "cell_type": "markdown",
   "metadata": {},
   "source": [
    "# Quantifying Shakespeare\n",
    "Analyzing the frequencies of different letters in Shakespeare's work.\n",
    "\n",
    "Data from: bit.ly/shakespeare-txt\n",
    "\n",
    "In this Notebook, we will\n",
    "1. Read all of Shakespeare's works into a list of strings.\n",
    "2. Count the frequencies of letters used.\n",
    "3. Visualize the frequencies with a bar graph."
   ]
  },
  {
   "cell_type": "code",
   "execution_count": 1,
   "metadata": {},
   "outputs": [
    {
     "name": "stdout",
     "output_type": "stream",
     "text": [
      "124456\n"
     ]
    }
   ],
   "source": [
    "from io import TextIOWrapper\n",
    "\n",
    "def read_lines(filename: str) -> list[str]:\n",
    "    \"\"\"Read a .txt file into a list of strings for each line.\"\"\"\n",
    "    lines: list[str] = []\n",
    "    file_handle: TextIOWrapper = open(filename, \"r\")\n",
    "    for line in file_handle:\n",
    "        # strip leading and trailing whitespace: \"    a dog    \"  -> \"a dog\"\n",
    "        line = line.strip()\n",
    "        # make everything lowercase\n",
    "        line = line.lower\n",
    "        lines.append(line)\n",
    "    file_handle.close()\n",
    "    return lines\n",
    "\n",
    "shakes_lines: list[str] = read_lines(\"../data/t8.shakespeare.txt\")\n",
    "print(len(shakes_lines))\n"
   ]
  },
  {
   "cell_type": "code",
   "execution_count": 2,
   "metadata": {},
   "outputs": [],
   "source": [
    "def tally(counts: dict[str, int], key:str) -> None:\n",
    "    \"\"\"Counts the number of letters in a line.\"\"\"\n",
    "    if key in counts:\n",
    "        counts[key] += 1\n",
    "    else:\n",
    "        counts[key] = 1"
   ]
  },
  {
   "cell_type": "code",
   "execution_count": 3,
   "metadata": {},
   "outputs": [
    {
     "name": "stdout",
     "output_type": "stream",
     "text": [
      "{'a': 1}\n",
      "{'a': 2, 'b': 1}\n"
     ]
    }
   ],
   "source": [
    "d: dict[str, int] = {}\n",
    "tally(d, \"a\")\n",
    "#d = {\"a\": 1}\n",
    "print(d)\n",
    "tally(d, \"a\")\n",
    "tally(d, \"b\")\n",
    "print(d)\n",
    "#d = {\"a\": 2, \"b\": 1}"
   ]
  },
  {
   "cell_type": "code",
   "execution_count": 4,
   "metadata": {},
   "outputs": [
    {
     "ename": "TypeError",
     "evalue": "'builtin_function_or_method' object is not iterable",
     "output_type": "error",
     "traceback": [
      "\u001b[0;31m---------------------------------------------------------------------------\u001b[0m",
      "\u001b[0;31mTypeError\u001b[0m                                 Traceback (most recent call last)",
      "Cell \u001b[0;32mIn[4], line 10\u001b[0m\n\u001b[1;32m      7\u001b[0m                 tally(counts, char)\n\u001b[1;32m      8\u001b[0m     \u001b[39mreturn\u001b[39;00m counts\n\u001b[0;32m---> 10\u001b[0m shakes_letters: \u001b[39mdict\u001b[39m[\u001b[39mstr\u001b[39m, \u001b[39mint\u001b[39m] \u001b[39m=\u001b[39m count_letters(shakes_lines)\n\u001b[1;32m     11\u001b[0m \u001b[39mprint\u001b[39m(shakes_letters)\n",
      "Cell \u001b[0;32mIn[4], line 5\u001b[0m, in \u001b[0;36mcount_letters\u001b[0;34m(lines)\u001b[0m\n\u001b[1;32m      3\u001b[0m counts: \u001b[39mdict\u001b[39m[\u001b[39mstr\u001b[39m, \u001b[39mint\u001b[39m] \u001b[39m=\u001b[39m {}\n\u001b[1;32m      4\u001b[0m \u001b[39mfor\u001b[39;00m line \u001b[39min\u001b[39;00m lines:\n\u001b[0;32m----> 5\u001b[0m     \u001b[39mfor\u001b[39;00m char \u001b[39min\u001b[39;00m line:\n\u001b[1;32m      6\u001b[0m         \u001b[39mif\u001b[39;00m char\u001b[39m.\u001b[39misalpha():\n\u001b[1;32m      7\u001b[0m             tally(counts, char)\n",
      "\u001b[0;31mTypeError\u001b[0m: 'builtin_function_or_method' object is not iterable"
     ]
    }
   ],
   "source": [
    "def count_letters(lines: list[str]) -> dict[str, int]:\n",
    "    \"\"\"Loops through every character and tallys how may of each letter there is inside the text.\"\"\"\n",
    "    counts: dict[str, int] = {}\n",
    "    for line in lines:\n",
    "        for char in line:\n",
    "            if char.isalpha():\n",
    "                tally(counts, char)\n",
    "    return counts\n",
    "\n",
    "shakes_letters: dict[str, int] = count_letters(shakes_lines)\n",
    "print(shakes_letters)"
   ]
  },
  {
   "attachments": {},
   "cell_type": "markdown",
   "metadata": {},
   "source": [
    "# Sorting in Lists and Dictionaries\n"
   ]
  },
  {
   "cell_type": "code",
   "execution_count": null,
   "metadata": {},
   "outputs": [],
   "source": [
    "# Get list of items of a dictionary\n",
    "shakes_letters_list = list(shakes_letters.items())\n",
    "\n",
    "shakes_letters_list = sorted(shakes_letters_list)\n",
    "\n",
    "shakes_letters_sorted = dict(shakes_letters_list)\n",
    "shakes_letters_sorted\n"
   ]
  },
  {
   "attachments": {},
   "cell_type": "markdown",
   "metadata": {},
   "source": [
    "# Visualize Data in Bar Graph"
   ]
  },
  {
   "cell_type": "code",
   "execution_count": null,
   "metadata": {},
   "outputs": [],
   "source": [
    "from matplotlib import pyplot\n",
    "\n",
    "pyplot.title(\"Letter Frequencies\")\n",
    "pyplot.xlabel(\"Letters\")\n",
    "pyplot.ylabel(\"Frequency\")\n",
    "x_values: list[str] = shakes_letters_sorted.keys() #my letters\n",
    "y_values: list[int] = shakes_letters_sorted.values() # my letter counts\n",
    "pyplot.bar(x_values, y_values)"
   ]
  },
  {
   "cell_type": "code",
   "execution_count": null,
   "metadata": {},
   "outputs": [],
   "source": []
  }
 ],
 "metadata": {
  "kernelspec": {
   "display_name": "Python 3",
   "language": "python",
   "name": "python3"
  },
  "language_info": {
   "codemirror_mode": {
    "name": "ipython",
    "version": 3
   },
   "file_extension": ".py",
   "mimetype": "text/x-python",
   "name": "python",
   "nbconvert_exporter": "python",
   "pygments_lexer": "ipython3",
   "version": "3.11.1"
  },
  "orig_nbformat": 4,
  "vscode": {
   "interpreter": {
    "hash": "aee8b7b246df8f9039afb4144a1f6fd8d2ca17a180786b69acc140d282b71a49"
   }
  }
 },
 "nbformat": 4,
 "nbformat_minor": 2
}
